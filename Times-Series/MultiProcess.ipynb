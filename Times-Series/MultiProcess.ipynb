{
 "cells": [
  {
   "cell_type": "code",
   "execution_count": 25,
   "metadata": {
    "collapsed": false
   },
   "outputs": [
    {
     "name": "stdout",
     "output_type": "stream",
     "text": [
      "Number rows of data 71851\n"
     ]
    }
   ],
   "source": [
    "import pandas as pd\n",
    "import multiprocessing as mp\n",
    "\n",
    "LARGE_FILE = \"file/data.csv\"\n",
    "CHUNKSIZE = 100000 # processing 100,000 rows at a time\n",
    "\n",
    "def process_frame(df):\n",
    "        # process data frame\n",
    "        return len(df)\n",
    "    \n",
    "\n",
    "reader = pd.read_csv(LARGE_FILE, chunksize=CHUNKSIZE)\n",
    "pool = mp.Pool(4)\n",
    "\n",
    "funclist = []\n",
    "for df in reader:\n",
    "    # process each data frame\n",
    "    f = pool.apply_async(process_frame,[df])\n",
    "    funclist.append(f)\n",
    "\n",
    "    result = 0\n",
    "    for f in funclist:\n",
    "        result += f.get(timeout=10) # timeout in 10 seconds\n",
    "\n",
    "print(\"Number rows of data\",(result))"
   ]
  },
  {
   "cell_type": "code",
   "execution_count": null,
   "metadata": {
    "collapsed": true
   },
   "outputs": [],
   "source": []
  }
 ],
 "metadata": {
  "anaconda-cloud": {},
  "kernelspec": {
   "display_name": "Python [anaconda]",
   "language": "python",
   "name": "Python [anaconda]"
  },
  "language_info": {
   "codemirror_mode": {
    "name": "ipython",
    "version": 3
   },
   "file_extension": ".py",
   "mimetype": "text/x-python",
   "name": "python",
   "nbconvert_exporter": "python",
   "pygments_lexer": "ipython3",
   "version": "3.5.4"
  }
 },
 "nbformat": 4,
 "nbformat_minor": 0
}
