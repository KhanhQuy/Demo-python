{
 "cells": [
  {
   "cell_type": "code",
   "execution_count": 19,
   "metadata": {
    "collapsed": true
   },
   "outputs": [],
   "source": [
    "import pandas as pd\n",
    "import numpy as np\n"
   ]
  },
  {
   "cell_type": "code",
   "execution_count": 32,
   "metadata": {
    "collapsed": false
   },
   "outputs": [
    {
     "data": {
      "text/html": [
       "<div>\n",
       "<table border=\"1\" class=\"dataframe\">\n",
       "  <thead>\n",
       "    <tr style=\"text-align: right;\">\n",
       "      <th></th>\n",
       "      <th>B</th>\n",
       "    </tr>\n",
       "  </thead>\n",
       "  <tbody>\n",
       "    <tr>\n",
       "      <th>0</th>\n",
       "      <td>NaN</td>\n",
       "    </tr>\n",
       "    <tr>\n",
       "      <th>1</th>\n",
       "      <td>1.0</td>\n",
       "    </tr>\n",
       "    <tr>\n",
       "      <th>2</th>\n",
       "      <td>2.5</td>\n",
       "    </tr>\n",
       "    <tr>\n",
       "      <th>3</th>\n",
       "      <td>NaN</td>\n",
       "    </tr>\n",
       "    <tr>\n",
       "      <th>4</th>\n",
       "      <td>NaN</td>\n",
       "    </tr>\n",
       "  </tbody>\n",
       "</table>\n",
       "</div>"
      ],
      "text/plain": [
       "     B\n",
       "0  NaN\n",
       "1  1.0\n",
       "2  2.5\n",
       "3  NaN\n",
       "4  NaN"
      ]
     },
     "execution_count": 32,
     "metadata": {},
     "output_type": "execute_result"
    }
   ],
   "source": [
    "df = pd.DataFrame({'B': [0, 1, 2, np.nan, 4]})\n",
    "df.rolling(2, win_type='triang').sum()\n"
   ]
  },
  {
   "cell_type": "code",
   "execution_count": 31,
   "metadata": {
    "collapsed": false
   },
   "outputs": [
    {
     "data": {
      "text/html": [
       "<div>\n",
       "<table border=\"1\" class=\"dataframe\">\n",
       "  <thead>\n",
       "    <tr style=\"text-align: right;\">\n",
       "      <th></th>\n",
       "      <th>B</th>\n",
       "    </tr>\n",
       "  </thead>\n",
       "  <tbody>\n",
       "    <tr>\n",
       "      <th>0</th>\n",
       "      <td>NaN</td>\n",
       "    </tr>\n",
       "    <tr>\n",
       "      <th>1</th>\n",
       "      <td>1.0</td>\n",
       "    </tr>\n",
       "    <tr>\n",
       "      <th>2</th>\n",
       "      <td>3.0</td>\n",
       "    </tr>\n",
       "    <tr>\n",
       "      <th>3</th>\n",
       "      <td>NaN</td>\n",
       "    </tr>\n",
       "    <tr>\n",
       "      <th>4</th>\n",
       "      <td>NaN</td>\n",
       "    </tr>\n",
       "  </tbody>\n",
       "</table>\n",
       "</div>"
      ],
      "text/plain": [
       "     B\n",
       "0  NaN\n",
       "1  1.0\n",
       "2  3.0\n",
       "3  NaN\n",
       "4  NaN"
      ]
     },
     "execution_count": 31,
     "metadata": {},
     "output_type": "execute_result"
    }
   ],
   "source": [
    "\n",
    "df.rolling(2).sum()"
   ]
  },
  {
   "cell_type": "code",
   "execution_count": 34,
   "metadata": {
    "collapsed": false
   },
   "outputs": [
    {
     "data": {
      "text/html": [
       "<div>\n",
       "<table border=\"1\" class=\"dataframe\">\n",
       "  <thead>\n",
       "    <tr style=\"text-align: right;\">\n",
       "      <th></th>\n",
       "      <th>close</th>\n",
       "      <th>volume</th>\n",
       "      <th>open</th>\n",
       "      <th>high</th>\n",
       "      <th>low</th>\n",
       "    </tr>\n",
       "    <tr>\n",
       "      <th>date</th>\n",
       "      <th></th>\n",
       "      <th></th>\n",
       "      <th></th>\n",
       "      <th></th>\n",
       "      <th></th>\n",
       "    </tr>\n",
       "  </thead>\n",
       "  <tbody>\n",
       "    <tr>\n",
       "      <th>2020-08-13 16:00:00</th>\n",
       "      <td>192.23</td>\n",
       "      <td>46,541,444</td>\n",
       "      <td>191.72</td>\n",
       "      <td>197.18</td>\n",
       "      <td>191.4501</td>\n",
       "    </tr>\n",
       "    <tr>\n",
       "      <th>2018-11-13 00:00:00</th>\n",
       "      <td>192.23</td>\n",
       "      <td>46725710.0000</td>\n",
       "      <td>191.63</td>\n",
       "      <td>197.18</td>\n",
       "      <td>191.4501</td>\n",
       "    </tr>\n",
       "    <tr>\n",
       "      <th>2018-11-12 00:00:00</th>\n",
       "      <td>194.17</td>\n",
       "      <td>50991030.0000</td>\n",
       "      <td>199.00</td>\n",
       "      <td>199.85</td>\n",
       "      <td>193.7900</td>\n",
       "    </tr>\n",
       "    <tr>\n",
       "      <th>2018-11-09 00:00:00</th>\n",
       "      <td>204.47</td>\n",
       "      <td>34317760.0000</td>\n",
       "      <td>205.55</td>\n",
       "      <td>206.01</td>\n",
       "      <td>202.2500</td>\n",
       "    </tr>\n",
       "    <tr>\n",
       "      <th>2018-11-08 00:00:00</th>\n",
       "      <td>208.49</td>\n",
       "      <td>25289270.0000</td>\n",
       "      <td>209.98</td>\n",
       "      <td>210.12</td>\n",
       "      <td>206.7500</td>\n",
       "    </tr>\n",
       "  </tbody>\n",
       "</table>\n",
       "</div>"
      ],
      "text/plain": [
       "                      close         volume    open    high       low\n",
       "date                                                                \n",
       "2020-08-13 16:00:00  192.23     46,541,444  191.72  197.18  191.4501\n",
       "2018-11-13 00:00:00  192.23  46725710.0000  191.63  197.18  191.4501\n",
       "2018-11-12 00:00:00  194.17  50991030.0000  199.00  199.85  193.7900\n",
       "2018-11-09 00:00:00  204.47  34317760.0000  205.55  206.01  202.2500\n",
       "2018-11-08 00:00:00  208.49  25289270.0000  209.98  210.12  206.7500"
      ]
     },
     "execution_count": 34,
     "metadata": {},
     "output_type": "execute_result"
    }
   ],
   "source": [
    "df2 = pd.read_csv(\"file/apple.csv\", parse_dates =[\"date\"], index_col =\"date\")\n",
    "df2.head()"
   ]
  },
  {
   "cell_type": "code",
   "execution_count": 35,
   "metadata": {
    "collapsed": false
   },
   "outputs": [
    {
     "data": {
      "text/plain": [
       "date\n",
       "2020-08-13 16:00:00        NaN\n",
       "2018-11-13 00:00:00    192.230\n",
       "2018-11-12 00:00:00    193.200\n",
       "2018-11-09 00:00:00    199.320\n",
       "2018-11-08 00:00:00    206.480\n",
       "2018-11-07 00:00:00    209.220\n",
       "2018-11-06 00:00:00    206.860\n",
       "2018-11-05 00:00:00    202.680\n",
       "2018-11-02 00:00:00    204.535\n",
       "2018-11-01 00:00:00    214.850\n",
       "2018-10-31 00:00:00    220.540\n",
       "2018-10-30 00:00:00    216.080\n",
       "2018-10-29 00:00:00    212.770\n",
       "2018-10-26 00:00:00    214.270\n",
       "2018-10-25 00:00:00    218.050\n",
       "2018-10-24 00:00:00    217.445\n",
       "2018-10-23 00:00:00    218.910\n",
       "2018-10-22 00:00:00    221.690\n",
       "2018-10-19 00:00:00    219.980\n",
       "2018-10-18 00:00:00    217.665\n",
       "2018-10-17 00:00:00    218.605\n",
       "2018-10-16 00:00:00    221.670\n",
       "2018-10-15 00:00:00    219.755\n",
       "2018-10-12 00:00:00    219.735\n",
       "2018-10-11 00:00:00    218.280\n",
       "2018-10-10 00:00:00    215.405\n",
       "2018-10-09 00:00:00    221.615\n",
       "2018-10-08 00:00:00    225.320\n",
       "2018-10-05 00:00:00    224.030\n",
       "2018-10-04 00:00:00    226.140\n",
       "                        ...   \n",
       "2017-12-26 00:00:00    170.585\n",
       "2017-12-22 00:00:00    172.790\n",
       "2017-12-21 00:00:00    175.010\n",
       "2017-12-20 00:00:00    174.680\n",
       "2017-12-19 00:00:00    174.445\n",
       "2017-12-18 00:00:00    175.480\n",
       "2017-12-15 00:00:00    175.195\n",
       "2017-12-14 00:00:00    173.095\n",
       "2017-12-13 00:00:00    172.245\n",
       "2017-12-12 00:00:00    171.985\n",
       "2017-12-11 00:00:00    172.185\n",
       "2017-12-08 00:00:00    171.020\n",
       "2017-12-07 00:00:00    169.345\n",
       "2017-12-06 00:00:00    169.165\n",
       "2017-12-05 00:00:00    169.325\n",
       "2017-12-04 00:00:00    169.720\n",
       "2017-12-01 00:00:00    170.425\n",
       "2017-11-30 00:00:00    171.450\n",
       "2017-11-29 00:00:00    170.665\n",
       "2017-11-28 00:00:00    171.275\n",
       "2017-11-27 00:00:00    173.580\n",
       "2017-11-24 00:00:00    174.530\n",
       "2017-11-22 00:00:00    174.965\n",
       "2017-11-21 00:00:00    174.050\n",
       "2017-11-20 00:00:00    171.560\n",
       "2017-11-17 00:00:00    170.065\n",
       "2017-11-16 00:00:00    170.625\n",
       "2017-11-15 00:00:00    170.090\n",
       "2017-11-14 00:00:00    170.210\n",
       "2017-11-13 00:00:00    172.655\n",
       "Name: close, dtype: float64"
      ]
     },
     "execution_count": 35,
     "metadata": {},
     "output_type": "execute_result"
    }
   ],
   "source": [
    "df2.close.rolling(2).mean()"
   ]
  },
  {
   "cell_type": "code",
   "execution_count": null,
   "metadata": {
    "collapsed": true
   },
   "outputs": [],
   "source": []
  }
 ],
 "metadata": {
  "anaconda-cloud": {},
  "kernelspec": {
   "display_name": "Python [anaconda]",
   "language": "python",
   "name": "Python [anaconda]"
  },
  "language_info": {
   "codemirror_mode": {
    "name": "ipython",
    "version": 3
   },
   "file_extension": ".py",
   "mimetype": "text/x-python",
   "name": "python",
   "nbconvert_exporter": "python",
   "pygments_lexer": "ipython3",
   "version": "3.5.4"
  }
 },
 "nbformat": 4,
 "nbformat_minor": 0
}
