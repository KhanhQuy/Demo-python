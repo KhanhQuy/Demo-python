{
 "cells": [
  {
   "cell_type": "markdown",
   "metadata": {},
   "source": [
    "## Example code for Times series train split \n"
   ]
  },
  {
   "cell_type": "code",
   "execution_count": 3,
   "metadata": {
    "collapsed": false
   },
   "outputs": [],
   "source": [
    "import pandas as pd\n",
    "import numpy as np\n",
    "import matplotlib.pyplot as plt\n",
    "from matplotlib import pyplot\n",
    "from sklearn.model_selection import TimeSeriesSplit"
   ]
  },
  {
   "cell_type": "markdown",
   "metadata": {},
   "source": [
    "## Load Sunspot Dataset and Train-Test Split"
   ]
  },
  {
   "cell_type": "code",
   "execution_count": 4,
   "metadata": {
    "collapsed": false
   },
   "outputs": [
    {
     "name": "stdout",
     "output_type": "stream",
     "text": [
      "         Sunspots\n",
      "Month            \n",
      "1749-01      58.0\n",
      "1749-02      62.6\n",
      "1749-03      70.0\n",
      "1749-04      55.7\n",
      "1749-05      85.0\n"
     ]
    }
   ],
   "source": [
    "series = pd.read_csv('file/sunspots.csv',header=0, index_col=0)\n",
    "print(series.head())\n",
    "\n"
   ]
  },
  {
   "cell_type": "markdown",
   "metadata": {},
   "source": [
    "Split data intro 66% for train and 34% for test "
   ]
  },
  {
   "cell_type": "code",
   "execution_count": null,
   "metadata": {
    "collapsed": false
   },
   "outputs": [
    {
     "name": "stdout",
     "output_type": "stream",
     "text": [
      "Observations: 2820\n",
      "Training Observations: 1861\n",
      "Testing Observations: 959\n"
     ]
    }
   ],
   "source": [
    "X = series.values\n",
    "train_size = int(len(X) * 0.66)\n",
    "train, test = X[0:train_size], X[train_size:len(X)]\n",
    "print('Observations: %d' % (len(X)))\n",
    "print('Training Observations: %d' % (len(train)))\n",
    "print('Testing Observations: %d' % (len(test)))\n",
    "pyplot.plot(train)\n",
    "pyplot.plot([None for i in train] + [x for x in test])\n",
    "pyplot.show()\n"
   ]
  },
  {
   "cell_type": "markdown",
   "metadata": {
    "collapsed": true
   },
   "source": [
    "## Multiple Train-Test Splits"
   ]
  },
  {
   "cell_type": "code",
   "execution_count": 5,
   "metadata": {
    "collapsed": false
   },
   "outputs": [
    {
     "name": "stdout",
     "output_type": "stream",
     "text": [
      "Observations: 1410\n",
      "Training Observations: 705\n",
      "Testing Observations: 705\n",
      "Observations: 2115\n",
      "Training Observations: 1410\n",
      "Testing Observations: 705\n",
      "Observations: 2820\n",
      "Training Observations: 2115\n",
      "Testing Observations: 705\n"
     ]
    }
   ],
   "source": [
    "series = pd.read_csv('sunspots.csv', header=0, index_col=0)\n",
    "X = series.values\n",
    "splits = TimeSeriesSplit(n_splits=3)\n",
    "pyplot.figure(1)\n",
    "index = 1\n",
    "for train_index, test_index in splits.split(X):\n",
    "    train = X[train_index]\n",
    "    test = X[test_index]\n",
    "    print('Observations: %d' % (len(train) + len(test)))\n",
    "    print('Training Observations: %d' % (len(train)))\n",
    "    print('Testing Observations: %d' % (len(test)))\n",
    "    pyplot.subplot(310 + index)\n",
    "    pyplot.plot(train)\n",
    "    pyplot.plot([None for i in train] + [x for x in test])\n",
    "    index += 1\n",
    "pyplot.show()"
   ]
  },
  {
   "cell_type": "code",
   "execution_count": null,
   "metadata": {
    "collapsed": true
   },
   "outputs": [],
   "source": []
  }
 ],
 "metadata": {
  "anaconda-cloud": {},
  "kernelspec": {
   "display_name": "Python [Root]",
   "language": "python",
   "name": "Python [Root]"
  },
  "language_info": {
   "codemirror_mode": {
    "name": "ipython",
    "version": 3
   },
   "file_extension": ".py",
   "mimetype": "text/x-python",
   "name": "python",
   "nbconvert_exporter": "python",
   "pygments_lexer": "ipython3",
   "version": "3.5.4"
  }
 },
 "nbformat": 4,
 "nbformat_minor": 0
}
